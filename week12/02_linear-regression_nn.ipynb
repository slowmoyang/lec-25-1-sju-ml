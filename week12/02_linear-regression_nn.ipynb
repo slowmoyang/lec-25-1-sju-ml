{
 "cells": [
  {
   "cell_type": "markdown",
   "id": "f9e1e967-882c-499f-b368-69a3aeec5930",
   "metadata": {},
   "source": [
    "# Example 02:. Linear Regression with Higher-Level APIs"
   ]
  },
  {
   "cell_type": "code",
   "execution_count": 2,
   "id": "2f4e1c34-a7ce-4488-b328-65283dff7e52",
   "metadata": {},
   "outputs": [],
   "source": [
    "import torch\n",
    "import torch.nn as nn\n",
    "import torch.nn.functional as F\n",
    "\n",
    "from torch import Tensor\n",
    "from torch.optim import SGD\n",
    "from torch.utils.data import (\n",
    "    TensorDataset, \n",
    "    DataLoader,\n",
    "    random_split,\n",
    ")\n",
    "import matplotlib.pyplot as plt\n",
    "from IPython.display import clear_output, display"
   ]
  },
  {
   "cell_type": "markdown",
   "id": "405327ac-80ea-47bf-a623-e579e21deb23",
   "metadata": {},
   "source": [
    "## 00. Toy Dataset Generation"
   ]
  },
  {
   "cell_type": "code",
   "execution_count": 3,
   "id": "16a973d8-3d46-4519-bc58-f55a604dfed1",
   "metadata": {},
   "outputs": [],
   "source": [
    "num_features = 2\n",
    "num_examples = 1000\n",
    "\n",
    "# toy data generation\n",
    "w_true = torch.tensor([0.5, -2], dtype=torch.float32)\n",
    "b_true = torch.tensor([1], dtype=torch.float32)\n",
    "\n",
    "x_total = torch.randn(num_examples, num_features)\n",
    "t_total = (w_true * x_total).sum(dim=1) + b_true\n",
    "\n",
    "dataset = TensorDataset(x_total, t_total)\n",
    "train_set, val_set, test_set = random_split(dataset, lengths=[0.64, 0.16, 0.2])"
   ]
  },
  {
   "cell_type": "markdown",
   "id": "e8fa9fec-d3aa-49de-bb9b-7c699f63367d",
   "metadata": {},
   "source": [
    "## 01. Linear Regression Model"
   ]
  },
  {
   "cell_type": "code",
   "execution_count": 4,
   "id": "d9ee2606-fa7b-48b2-97d6-5a25b71c16d4",
   "metadata": {},
   "outputs": [],
   "source": [
    "# linear transformation + bias addition\n",
    "model = nn.Linear(in_features=num_features, out_features=1, bias=True)"
   ]
  },
  {
   "cell_type": "code",
   "execution_count": 5,
   "id": "4dc1ffc1-6feb-4585-97b6-9cfe32bbc64d",
   "metadata": {},
   "outputs": [
    {
     "name": "stdout",
     "output_type": "stream",
     "text": [
      "Linear(in_features=2, out_features=1, bias=True)\n"
     ]
    }
   ],
   "source": [
    "print(model)"
   ]
  },
  {
   "cell_type": "code",
   "execution_count": 6,
   "id": "a4576339-d1b8-407b-ac25-aae9db69dc38",
   "metadata": {},
   "outputs": [
    {
     "name": "stdout",
     "output_type": "stream",
     "text": [
      "model.weight=Parameter containing:\n",
      "tensor([[ 0.3717, -0.0794]], requires_grad=True)\n"
     ]
    }
   ],
   "source": [
    "print(f'{model.weight=}')"
   ]
  },
  {
   "cell_type": "code",
   "execution_count": 7,
   "id": "b783e41a-8039-4e1e-be9a-dc0198e8b909",
   "metadata": {},
   "outputs": [
    {
     "name": "stdout",
     "output_type": "stream",
     "text": [
      "model.weight.shape=torch.Size([1, 2])\n"
     ]
    }
   ],
   "source": [
    "print(f'{model.weight.shape=}')"
   ]
  },
  {
   "cell_type": "code",
   "execution_count": 8,
   "id": "35a40f13-83b7-495f-aaa0-754f8724e48d",
   "metadata": {},
   "outputs": [
    {
     "data": {
      "text/plain": [
       "Parameter containing:\n",
       "tensor([0.2360], requires_grad=True)"
      ]
     },
     "execution_count": 8,
     "metadata": {},
     "output_type": "execute_result"
    }
   ],
   "source": [
    "model.bias"
   ]
  },
  {
   "cell_type": "code",
   "execution_count": 10,
   "id": "33630e8b-189f-4e7c-a087-bdcd8c8aa018",
   "metadata": {},
   "outputs": [
    {
     "data": {
      "text/plain": [
       "tensor([[ 0.3716],\n",
       "        [ 0.5824],\n",
       "        [-0.1687],\n",
       "        [-0.0756],\n",
       "        [ 0.3296],\n",
       "        [ 0.1079],\n",
       "        [-0.1049],\n",
       "        [ 0.2947],\n",
       "        [ 0.4545],\n",
       "        [ 0.4416],\n",
       "        [-0.5658],\n",
       "        [ 0.4053],\n",
       "        [ 0.6167],\n",
       "        [ 0.6477],\n",
       "        [-0.0336],\n",
       "        [ 0.3470]], grad_fn=<AddmmBackward0>)"
      ]
     },
     "execution_count": 10,
     "metadata": {},
     "output_type": "execute_result"
    }
   ],
   "source": [
    "### the corresponding functional API\n",
    "F.linear(torch.randn(16, num_features), model.weight, model.bias)"
   ]
  },
  {
   "cell_type": "markdown",
   "id": "294b6691-15a6-4d58-8af9-ae30dcfc7ba1",
   "metadata": {},
   "source": [
    "## 02. Optimization Criterion: Mean Squared Error loss (averaged over the batch)"
   ]
  },
  {
   "cell_type": "code",
   "execution_count": 13,
   "id": "7862c818-0237-476d-b793-65e275d3245a",
   "metadata": {},
   "outputs": [],
   "source": [
    "criterion = nn.MSELoss(reduction='mean')"
   ]
  },
  {
   "cell_type": "markdown",
   "id": "af8e7d7f-3c94-45ad-8494-0860be609dd7",
   "metadata": {},
   "source": [
    "## 03. Optimizer: stochastic gradient descent"
   ]
  },
  {
   "cell_type": "code",
   "execution_count": 14,
   "id": "1ce66b85-f881-4274-ac8a-d1ed252e547a",
   "metadata": {},
   "outputs": [],
   "source": [
    "optimizer = SGD(params=model.parameters(), lr=0.1)"
   ]
  },
  {
   "cell_type": "markdown",
   "id": "8a465b10-53c0-46b0-9c68-33e3232f1e21",
   "metadata": {},
   "source": [
    "## 04. Data Loaders for batch training"
   ]
  },
  {
   "cell_type": "code",
   "execution_count": 17,
   "id": "e978fda9-fe03-4c47-9363-e0e72001dda6",
   "metadata": {},
   "outputs": [],
   "source": [
    "# DataLoader for training: shuffles data\n",
    "train_loader = DataLoader(\n",
    "    dataset=train_set,\n",
    "    batch_size=64,\n",
    "    shuffle=True,\n",
    "    drop_last=True, # drop last incomplete batch if any\n",
    ")\n",
    "\n",
    "# DataLoader for validation: no shuffling, keep all data\n",
    "val_loader = DataLoader(\n",
    "    dataset=val_set,\n",
    "    batch_size=64,\n",
    "    shuffle=False,\n",
    "    drop_last=False,\n",
    ")"
   ]
  },
  {
   "cell_type": "markdown",
   "id": "d708d064-631f-4953-b027-98c7e3a07334",
   "metadata": {},
   "source": [
    "## 05. Fit"
   ]
  },
  {
   "cell_type": "code",
   "execution_count": 18,
   "id": "27249513-6a44-4a9a-99f4-fd8265e93a88",
   "metadata": {},
   "outputs": [
    {
     "data": {
      "image/png": "[encoded data removed]",
      "text/plain": [
       "<Figure size 640x480 with 1 Axes>"
      ]
     },
     "metadata": {},
     "output_type": "display_data"
    }
   ],
   "source": [
    "def plot_curve(train_step, train_loss, val_step, val_loss):\n",
    "    clear_output(wait=True)\n",
    "    fig, ax = plt.subplots()\n",
    "    ax.plot(train_step, train_loss, label='Training', ls=':', marker='o')\n",
    "    ax.plot(val_step, val_loss, label='Validation', ls='--', marker='s')\n",
    "    ax.set_xlabel(r'Step')\n",
    "    ax.set_ylabel(r'MES Loss')\n",
    "    ax.legend()\n",
    "    display(fig)\n",
    "    plt.close(fig)\n",
    "\n",
    "# prepare lists for plotting\n",
    "train_step_list = []\n",
    "train_loss_list = []\n",
    "\n",
    "val_step_list = []\n",
    "val_loss_list = []\n",
    "\n",
    "step = 0\n",
    "\n",
    "max_epochs = 10\n",
    "for epoch in range(0, max_epochs + 1):\n",
    "\n",
    "    if epoch > 0:\n",
    "        # training\n",
    "        \n",
    "        for x, t in train_loader:\n",
    "            y = model(x).squeeze() # forward pass\n",
    "            loss = criterion(input=y, target=t) # compute loss\n",
    "            loss.backward() # backpropagate\n",
    "            optimizer.step() # update weights\n",
    "            optimizer.zero_grad() # reset gradients\n",
    "\n",
    "            step += 1\n",
    "    \n",
    "            train_step_list.append(step)\n",
    "            train_loss_list.append(loss.item())\n",
    "    \n",
    "    # validation\n",
    "    val_loss_sum = 0\n",
    "\n",
    "    with torch.no_grad(): # disable gradient computation for validation\n",
    "        for x, t in val_loader:\n",
    "            y = model(x).squeeze()\n",
    "            loss = F.mse_loss(input=y, target=t, reduction='none')\n",
    "            val_loss_sum += loss.sum().item()\n",
    "\n",
    "    val_step_list.append(step)\n",
    "    val_loss_list.append(val_loss_sum / len(val_set))\n",
    "\n",
    "    plot_curve(train_step_list, train_loss_list, val_step_list, val_loss_list)"
   ]
  },
  {
   "cell_type": "code",
   "execution_count": null,
   "id": "2c648f05-6076-4bf1-8ec4-617d54581f07",
   "metadata": {},
   "outputs": [],
   "source": []
  },
  {
   "cell_type": "code",
   "execution_count": null,
   "id": "0d4433a6-4fa5-47ae-8a6a-a7f0f0ad2220",
   "metadata": {},
   "outputs": [],
   "source": []
  },
  {
   "cell_type": "code",
   "execution_count": null,
   "id": "4af8acbc-e2f3-4ddc-bdbd-70516afa226f",
   "metadata": {},
   "outputs": [],
   "source": []
  }
 ],
 "metadata": {
  "kernelspec": {
   "display_name": "lec-25-1-sju-ml-py312",
   "language": "python",
   "name": "lec-25-1-sju-ml-py312"
  },
  "language_info": {
   "codemirror_mode": {
    "name": "ipython",
    "version": 3
   },
   "file_extension": ".py",
   "mimetype": "text/x-python",
   "name": "python",
   "nbconvert_exporter": "python",
   "pygments_lexer": "ipython3",
   "version": "3.12.10"
  }
 },
 "nbformat": 4,
 "nbformat_minor": 5
}
