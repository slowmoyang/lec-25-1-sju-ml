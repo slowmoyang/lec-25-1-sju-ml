{
 "cells": [
  {
   "cell_type": "markdown",
   "id": "9113444a-38ff-4e4b-a9bd-9788ebd701fa",
   "metadata": {},
   "source": [
    "# Example 0: PyTorch\n",
    "- https://pytorch.org"
   ]
  },
  {
   "cell_type": "code",
   "execution_count": 1,
   "id": "63a9bb28-45b1-492d-b209-3083430e83d5",
   "metadata": {},
   "outputs": [],
   "source": [
    "import numpy as np\n",
    "import torch"
   ]
  },
  {
   "cell_type": "code",
   "execution_count": 2,
   "id": "192f351a-8b6e-4245-910b-aa64d3f13a97",
   "metadata": {},
   "outputs": [
    {
     "data": {
      "text/plain": [
       "<torch._C.Generator at 0x7fb3be5af210>"
      ]
     },
     "execution_count": 2,
     "metadata": {},
     "output_type": "execute_result"
    }
   ],
   "source": [
    "np.random.seed(1337)\n",
    "torch.manual_seed(1337)"
   ]
  },
  {
   "cell_type": "markdown",
   "id": "1c67b943-777d-4801-b0b3-44a33314a85d",
   "metadata": {},
   "source": [
    "# Creating tensors"
   ]
  },
  {
   "cell_type": "code",
   "execution_count": 3,
   "id": "e85f048e-d454-44ac-b65c-d5c19cbdad18",
   "metadata": {},
   "outputs": [
    {
     "data": {
      "text/plain": [
       "tensor(1)"
      ]
     },
     "execution_count": 3,
     "metadata": {},
     "output_type": "execute_result"
    }
   ],
   "source": [
    "torch.tensor(1)"
   ]
  },
  {
   "cell_type": "code",
   "execution_count": 4,
   "id": "5ad5db79-e4c4-446a-8b19-f392959250a8",
   "metadata": {},
   "outputs": [
    {
     "data": {
      "text/plain": [
       "tensor([-0.7032, -0.4903, -0.3218, -1.7551,  0.2067, -2.0113, -0.5573,  0.3372,\n",
       "         1.5488, -1.3707], dtype=torch.float64)"
      ]
     },
     "execution_count": 4,
     "metadata": {},
     "output_type": "execute_result"
    }
   ],
   "source": [
    "torch.from_numpy(np.random.randn(10))"
   ]
  },
  {
   "cell_type": "markdown",
   "id": "4d30bd8a-9fa2-4f82-85b1-d55e29a1a89b",
   "metadata": {},
   "source": [
    "# Attributes of a torch.Tensor"
   ]
  },
  {
   "cell_type": "code",
   "execution_count": 5,
   "id": "a53ca419-ad29-4580-8002-6cd89b8665ea",
   "metadata": {},
   "outputs": [
    {
     "name": "stdout",
     "output_type": "stream",
     "text": [
      "tensor.shape=torch.Size([3, 5])\n",
      "tensor.dtype=torch.float32\n",
      "tensor.device=device(type='cpu')\n"
     ]
    }
   ],
   "source": [
    "tensor = torch.rand(3, 5)\n",
    "\n",
    "print(f'{tensor.shape=}')\n",
    "print(f'{tensor.dtype=}')\n",
    "print(f'{tensor.device=}')"
   ]
  },
  {
   "cell_type": "markdown",
   "id": "066748ee-8837-4415-b446-8c727c7273bf",
   "metadata": {},
   "source": [
    "# Creating tensors with constant values"
   ]
  },
  {
   "cell_type": "code",
   "execution_count": 6,
   "id": "4bba5384-2e24-4468-a011-35a702ec46da",
   "metadata": {},
   "outputs": [
    {
     "data": {
      "text/plain": [
       "tensor([0., 0., 0., 0., 0., 0., 0., 0., 0., 0.])"
      ]
     },
     "execution_count": 6,
     "metadata": {},
     "output_type": "execute_result"
    }
   ],
   "source": [
    "torch.zeros(10)"
   ]
  },
  {
   "cell_type": "code",
   "execution_count": 7,
   "id": "710ef2d7-7a3c-416b-8087-9e5f8bd05f75",
   "metadata": {},
   "outputs": [
    {
     "data": {
      "text/plain": [
       "tensor([1., 1., 1., 1., 1., 1., 1., 1., 1., 1.])"
      ]
     },
     "execution_count": 7,
     "metadata": {},
     "output_type": "execute_result"
    }
   ],
   "source": [
    "torch.ones(10)"
   ]
  },
  {
   "cell_type": "code",
   "execution_count": 8,
   "id": "744ac0a9-013b-4bc9-be06-042c578ec55e",
   "metadata": {},
   "outputs": [
    {
     "data": {
      "text/plain": [
       "tensor([5.2000, 5.2000, 5.2000, 5.2000, 5.2000, 5.2000, 5.2000, 5.2000, 5.2000,\n",
       "        5.2000])"
      ]
     },
     "execution_count": 8,
     "metadata": {},
     "output_type": "execute_result"
    }
   ],
   "source": [
    "torch.full(size=(10, ), fill_value=5.2)"
   ]
  },
  {
   "cell_type": "markdown",
   "id": "6de1056a-ec5e-4f3c-86d8-d704580591af",
   "metadata": {},
   "source": [
    "## Creating random tensors"
   ]
  },
  {
   "cell_type": "code",
   "execution_count": 9,
   "id": "743a3e76-f676-4888-89d8-e44582fd4db1",
   "metadata": {},
   "outputs": [
    {
     "data": {
      "text/plain": [
       "tensor([0.2434, 0.6005, 0.7079, 0.5102, 0.4065, 0.8864, 0.3578, 0.8963, 0.9639,\n",
       "        0.0148])"
      ]
     },
     "execution_count": 9,
     "metadata": {},
     "output_type": "execute_result"
    }
   ],
   "source": [
    "torch.rand(10)"
   ]
  },
  {
   "cell_type": "code",
   "execution_count": 10,
   "id": "3dfb5974-09b9-4cf5-a4a3-a09ee7d4506d",
   "metadata": {},
   "outputs": [
    {
     "data": {
      "text/plain": [
       "tensor([ 0.9893, -0.8554, -0.4627, -1.4934,  0.9460, -0.3638, -2.6027,  1.2525,\n",
       "        -0.2455, -0.3973])"
      ]
     },
     "execution_count": 10,
     "metadata": {},
     "output_type": "execute_result"
    }
   ],
   "source": [
    "torch.randn(10)"
   ]
  },
  {
   "cell_type": "markdown",
   "id": "7bd520b3-9d2c-4334-a32b-096c99e9f953",
   "metadata": {},
   "source": [
    "# Operations"
   ]
  },
  {
   "cell_type": "code",
   "execution_count": 11,
   "id": "0e220b05-26d7-4cea-9921-7de1fcad54d1",
   "metadata": {},
   "outputs": [
    {
     "name": "stdout",
     "output_type": "stream",
     "text": [
      "x=tensor([-0.9511, -0.6433]), x_clone=tensor([-0.9511, -0.6433]), y=tensor([0.6761, 0.8998])\n",
      "x=tensor([-0.9511, -0.6433]), x_clone=tensor([-0.9511, -0.6433]), y=tensor([0.6761, 0.8998]), z=tensor([-0.2751,  0.2565])\n",
      "x=tensor([-0.9511, -0.6433]), x_clone=tensor([-0.9511, -0.6433]), y=tensor([0.6761, 0.8998]), z=tensor([-0.2751,  0.2565])\n",
      "x=tensor([-0.9511, -0.6433]), x_clone=tensor([-0.9511, -0.6433]), y=tensor([0.6761, 0.8998]), z=tensor([-0.2751,  0.2565])\n",
      "x=tensor([-0.2751,  0.2565]), x_clone=tensor([-0.9511, -0.6433]), y=tensor([0.6761, 0.8998]), z=tensor([-0.2751,  0.2565])\n"
     ]
    }
   ],
   "source": [
    "x = torch.randn(2)\n",
    "x_clone = x.clone()\n",
    "y = torch.randn(2)\n",
    "print(f'{x=}, {x_clone=}, {y=}')\n",
    "\n",
    "z = x + y\n",
    "print(f'{x=}, {x_clone=}, {y=}, {z=}')\n",
    "\n",
    "z = torch.add(x, y)\n",
    "print(f'{x=}, {x_clone=}, {y=}, {z=}')\n",
    "\n",
    "z = x.add(y)\n",
    "print(f'{x=}, {x_clone=}, {y=}, {z=}')\n",
    "\n",
    "# in-place operations\n",
    "z = x.add_(y)\n",
    "print(f'{x=}, {x_clone=}, {y=}, {z=}')"
   ]
  },
  {
   "cell_type": "markdown",
   "id": "1a7e293c-10b6-4115-b312-a7b168925405",
   "metadata": {},
   "source": [
    "# Data Types\n",
    "- https://docs.pytorch.org/docs/stable/tensors.html"
   ]
  },
  {
   "cell_type": "code",
   "execution_count": 12,
   "id": "f05e8184-57b0-449e-9a14-db51cdd2eac7",
   "metadata": {},
   "outputs": [
    {
     "name": "stdout",
     "output_type": "stream",
     "text": [
      "x.dtype=torch.int64\n",
      "y.dtype=torch.float32\n",
      "y.to(torch.float16).dtype=torch.float16\n",
      "y.half().dtype=torch.float16\n",
      "y.float().dtype=torch.float32\n",
      "y.double().dtype=torch.float64\n",
      "y.int().dtype=torch.int32\n",
      "y.long().dtype=torch.int64\n"
     ]
    }
   ],
   "source": [
    "x = torch.arange(10)\n",
    "print(f'{x.dtype=}')\n",
    "\n",
    "y = torch.randn(10)\n",
    "print(f'{y.dtype=}')\n",
    "\n",
    "print(f'{y.to(torch.float16).dtype=}')\n",
    "print(f'{y.half().dtype=}')\n",
    "print(f'{y.float().dtype=}')\n",
    "print(f'{y.double().dtype=}')\n",
    "print(f'{y.int().dtype=}')\n",
    "print(f'{y.long().dtype=}')"
   ]
  },
  {
   "cell_type": "markdown",
   "id": "2aabf190-69ed-45a2-ae29-b794234c69e0",
   "metadata": {},
   "source": [
    "# Accelerators"
   ]
  },
  {
   "cell_type": "code",
   "execution_count": null,
   "id": "50f1d59b-a8af-4ea0-9da3-8595a5965a22",
   "metadata": {},
   "outputs": [],
   "source": [
    "if torch.accelerator.is_available():\n",
    "    print(f'{torch.accelerator.current_accelerator()=}')\n",
    "    print(f'{torch.accelerator.device_count()=}')\n",
    "\n",
    "    x = torch.randn(10)\n",
    "    print(f'{x=}, {x.device=}')\n",
    "\n",
    "    x = x.to(torch.accelerator.current_accelerator())\n",
    "    print(f'{x=}, {x.device=}')\n",
    "    \n",
    "    x = x.cpu()\n",
    "    print(f'{x=}, {x.device=}')\n",
    "\n",
    "    device = torch.device('cuda:0')\n",
    "    x = x.to(device)\n",
    "    print(f'{x=}, {x.device=}')\n",
    "else:\n",
    "    print('accelerator not found')\n",
    "    print(f'{x=}, {x.device=}')"
   ]
  }
 ],
 "metadata": {
  "kernelspec": {
   "display_name": "lec-25-1-sju-ml-py312",
   "language": "python",
   "name": "lec-25-1-sju-ml-py312"
  },
  "language_info": {
   "codemirror_mode": {
    "name": "ipython",
    "version": 3
   },
   "file_extension": ".py",
   "mimetype": "text/x-python",
   "name": "python",
   "nbconvert_exporter": "python",
   "pygments_lexer": "ipython3",
   "version": "3.12.10"
  }
 },
 "nbformat": 4,
 "nbformat_minor": 5
}
