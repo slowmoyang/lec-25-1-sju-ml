{
 "cells": [
  {
   "cell_type": "markdown",
   "id": "ecab6a5f-e5e7-45d0-b574-1360e9ba6c22",
   "metadata": {},
   "source": [
    "# Example 01: Linear Regression"
   ]
  },
  {
   "cell_type": "code",
   "execution_count": 1,
   "id": "3322de28-3da4-443f-b4cc-8c919bc5862b",
   "metadata": {},
   "outputs": [],
   "source": [
    "import numpy as np\n",
    "import torch\n",
    "from torch import Tensor\n",
    "from sklearn.model_selection import train_test_split\n",
    "import matplotlib.pyplot as plt # plotting packages\n",
    "from IPython.display import clear_output, display # utilities to update plots in Jupyter"
   ]
  },
  {
   "cell_type": "code",
   "execution_count": 2,
   "id": "4a67f905-8d18-4eb8-bee9-389d757034f8",
   "metadata": {},
   "outputs": [
    {
     "data": {
      "text/plain": [
       "<torch._C.Generator at 0x7fce3cba7210>"
      ]
     },
     "execution_count": 2,
     "metadata": {},
     "output_type": "execute_result"
    }
   ],
   "source": [
    "np.random.seed(1337)\n",
    "torch.manual_seed(1337)"
   ]
  },
  {
   "cell_type": "markdown",
   "id": "4593c3c2-87e9-4411-b330-0a2a08adad86",
   "metadata": {},
   "source": [
    "## 0. Toy data generation"
   ]
  },
  {
   "cell_type": "code",
   "execution_count": 3,
   "id": "bfacd5e1-3795-4294-9e7c-b9484dd3ba27",
   "metadata": {},
   "outputs": [],
   "source": [
    "def linear_regression_model(x: Tensor, w: Tensor, b: Tensor) -> Tensor:\n",
    "    # check that input features match weight size\n",
    "    assert x.size(1) == w.size(0)\n",
    "    # check that bias is a single number\n",
    "    assert len(b) == 1\n",
    "    # compute y = x·w + b\n",
    "    return (w * x).sum(dim=1) + b\n",
    "\n",
    "def mse_loss(y, t):\n",
    "    # # compute mean squared error (without averaging yet)\n",
    "    loss = (y - t)**2 / 2\n",
    "    return loss.mean()"
   ]
  },
  {
   "cell_type": "code",
   "execution_count": 4,
   "id": "40bd6598-b717-48d8-876d-c9d1ebac50e3",
   "metadata": {},
   "outputs": [],
   "source": [
    "num_features = 2 # the number of input features\n",
    "num_examples = 1000 # total number of data points \n",
    "\n",
    "# true weights and bias\n",
    "w_true = torch.tensor([-1, 2], dtype=torch.float32)\n",
    "b_true = torch.tensor([1], dtype=torch.float32)\n",
    "\n",
    "x_total = torch.randn(num_examples, num_features)\n",
    "t_total = linear_regression_model(x_total, w_true, b_true)\n",
    "\n",
    "# split data into training and test sets\n",
    "x_train, x_test, t_train, t_test = train_test_split(x_total, t_total, test_size=0.2)\n",
    "# further split training data into train and validation sets\n",
    "x_train, x_val, t_train, t_val = train_test_split(x_train, t_train, test_size=0.2)"
   ]
  },
  {
   "cell_type": "markdown",
   "id": "13c24be1-3732-4386-b0dc-0c41b9e017d3",
   "metadata": {},
   "source": [
    "## 1. Build a linear regression model from scratch using PyTorch "
   ]
  },
  {
   "cell_type": "markdown",
   "id": "98702f7b-2c21-4768-979d-0dac25c59bf2",
   "metadata": {},
   "source": [
    "### adjustable parameters"
   ]
  },
  {
   "cell_type": "code",
   "execution_count": 5,
   "id": "56fff274-544f-4e03-acb2-318ee1a71b44",
   "metadata": {},
   "outputs": [],
   "source": [
    "# weights\n",
    "w = torch.randn(num_features, requires_grad=True)\n",
    "# bias\n",
    "b = torch.zeros(1, requires_grad=True)"
   ]
  },
  {
   "cell_type": "code",
   "execution_count": 6,
   "id": "25205cfa-d4c8-4b1a-807d-03bfdba2cd34",
   "metadata": {},
   "outputs": [
    {
     "name": "stdout",
     "output_type": "stream",
     "text": [
      "w=tensor([-0.2277, -1.2632], requires_grad=True)\n",
      "b=tensor([0.], requires_grad=True)\n"
     ]
    }
   ],
   "source": [
    "print(f'{w=}')\n",
    "print(f'{b=}')"
   ]
  },
  {
   "cell_type": "markdown",
   "id": "dab87004-9fda-414b-b9de-3f32c4a83f13",
   "metadata": {},
   "source": [
    "### Training Step"
   ]
  },
  {
   "cell_type": "code",
   "execution_count": 7,
   "id": "59215bd3-27b1-4a30-9a2f-a20729dcb84c",
   "metadata": {},
   "outputs": [
    {
     "name": "stdout",
     "output_type": "stream",
     "text": [
      "x=tensor([[ 0.5464,  0.6994],\n",
      "        [-1.4546,  0.2410],\n",
      "        [-0.3098, -1.7464],\n",
      "        [ 0.7527, -0.8036],\n",
      "        [ 0.2341, -0.0326],\n",
      "        [-2.2488,  1.2301],\n",
      "        [ 0.0808,  2.6207],\n",
      "        [-2.2630, -0.2638]])\n",
      "t=tensor([ 1.8524,  2.9366, -2.1831, -1.3599,  0.7007,  5.7089,  6.1606,  2.7354])\n"
     ]
    }
   ],
   "source": [
    "# take a small batch\n",
    "x = x_train[:8]\n",
    "t = t_train[:8]\n",
    "\n",
    "print(f'{x=}')\n",
    "print(f'{t=}')"
   ]
  },
  {
   "cell_type": "code",
   "execution_count": 8,
   "id": "620352a6-d264-42bb-a15d-97605e6a536b",
   "metadata": {},
   "outputs": [
    {
     "name": "stdout",
     "output_type": "stream",
     "text": [
      "y=tensor([-1.0078,  0.0268,  2.2766,  0.8436, -0.0121, -1.0417, -3.3288,  0.8485],\n",
      "       grad_fn=<AddBackward0>)\n"
     ]
    }
   ],
   "source": [
    "# forward pass\n",
    "y = linear_regression_model(x, w, b)\n",
    "print(f'{y=}')"
   ]
  },
  {
   "cell_type": "code",
   "execution_count": 9,
   "id": "e2b8d0a5-6d8b-4a91-8a36-ea778ababfe9",
   "metadata": {},
   "outputs": [
    {
     "name": "stdout",
     "output_type": "stream",
     "text": [
      "per_example_loss=tensor([ 8.1808,  8.4670, 19.8890,  4.8555,  0.5081, 45.5709, 90.0484,  3.5604],\n",
      "       grad_fn=<PowBackward0>)\n"
     ]
    }
   ],
   "source": [
    "# squared errors\n",
    "per_example_loss = (y - t)**2\n",
    "print(f'{per_example_loss=}')"
   ]
  },
  {
   "cell_type": "code",
   "execution_count": 10,
   "id": "6c8a65db-f94c-41a0-a1ad-b6d7be99de7e",
   "metadata": {},
   "outputs": [
    {
     "name": "stdout",
     "output_type": "stream",
     "text": [
      "loss=tensor(22.6350, grad_fn=<MeanBackward0>)\n"
     ]
    }
   ],
   "source": [
    "loss = per_example_loss.mean()\n",
    "print(f'{loss=}')"
   ]
  },
  {
   "cell_type": "code",
   "execution_count": 11,
   "id": "4fd91c71-993a-40ac-aa90-135bf1a15206",
   "metadata": {},
   "outputs": [],
   "source": [
    "# backpropagate to compute gradients\n",
    "loss.backward()"
   ]
  },
  {
   "cell_type": "code",
   "execution_count": 12,
   "id": "15591eaa-3212-408c-b2c3-a5e1b10dd502",
   "metadata": {},
   "outputs": [
    {
     "name": "stdout",
     "output_type": "stream",
     "text": [
      "w.grad=tensor([  5.3661, -11.2281])\n",
      "b.grad=tensor([-4.4866])\n"
     ]
    }
   ],
   "source": [
    "print(f'{w.grad=}')\n",
    "print(f'{b.grad=}')"
   ]
  },
  {
   "cell_type": "markdown",
   "id": "f98b5aab-88ea-40af-a353-c8239e97ea0f",
   "metadata": {},
   "source": [
    "### Gradients can be accumulated"
   ]
  },
  {
   "cell_type": "code",
   "execution_count": 13,
   "id": "7490fefd-542b-44c0-b3ab-a2352640c1e0",
   "metadata": {},
   "outputs": [
    {
     "name": "stdout",
     "output_type": "stream",
     "text": [
      "w.grad=tensor([  5.3661, -11.2281])\n",
      "b.grad=tensor([-4.4866])\n",
      "w.grad=tensor([  8.0492, -16.8421])\n",
      "b.grad=tensor([-6.7299])\n",
      "w.grad=tensor([ 10.7323, -22.4561])\n",
      "b.grad=tensor([-8.9732])\n",
      "w.grad=tensor([ 13.4153, -28.0701])\n",
      "b.grad=tensor([-11.2166])\n"
     ]
    }
   ],
   "source": [
    "y = linear_regression_model(x, w, b)\n",
    "loss = mse_loss(y, t).mean()\n",
    "\n",
    "print(f'{w.grad=}')\n",
    "print(f'{b.grad=}')\n",
    "\n",
    "loss.backward(retain_graph=True)\n",
    "print(f'{w.grad=}')\n",
    "print(f'{b.grad=}')\n",
    "\n",
    "loss.backward(retain_graph=True)\n",
    "print(f'{w.grad=}')\n",
    "print(f'{b.grad=}')\n",
    "\n",
    "loss.backward(retain_graph=True)\n",
    "print(f'{w.grad=}')\n",
    "print(f'{b.grad=}')"
   ]
  },
  {
   "cell_type": "markdown",
   "id": "041d1a46-efe6-46ca-9169-03eb4e844869",
   "metadata": {},
   "source": [
    "### Gradient Descent with a minibatch "
   ]
  },
  {
   "cell_type": "code",
   "execution_count": 14,
   "id": "bb51a5b6-7c6f-4b7d-ab98-f9ca4d6c5f6d",
   "metadata": {},
   "outputs": [
    {
     "name": "stdout",
     "output_type": "stream",
     "text": [
      "Before GD\n",
      "w=tensor([-0.2277, -1.2632], requires_grad=True)\n",
      "b=tensor([0.], requires_grad=True)\n",
      "\n",
      "After GD\n",
      "w=tensor([-1.8376,  2.1052], requires_grad=True)\n",
      "b=tensor([1.3460], requires_grad=True)\n"
     ]
    }
   ],
   "source": [
    "y = linear_regression_model(x, w, b)\n",
    "loss = mse_loss(y, t).mean()\n",
    "loss.backward()\n",
    "\n",
    "print('Before GD')\n",
    "print(f'{w=}')\n",
    "print(f'{b=}')\n",
    "\n",
    "lr = 0.1\n",
    "\n",
    "with torch.no_grad():\n",
    "    w.data -= lr * w.grad.data\n",
    "    b.data -= lr * b.grad.data\n",
    "    # clear gradients to prevent accumulation\n",
    "    w.grad = None\n",
    "    b.grad = None\n",
    "\n",
    "\n",
    "print()\n",
    "print('After GD')\n",
    "print(f'{w=}')\n",
    "print(f'{b=}')"
   ]
  },
  {
   "cell_type": "markdown",
   "id": "2919df05-d871-4e5c-b63e-71bc6cbf3aac",
   "metadata": {},
   "source": [
    "## 2. Fit"
   ]
  },
  {
   "cell_type": "markdown",
   "id": "73bcc1ca-535b-4513-b4bd-1700e96cf85d",
   "metadata": {},
   "source": [
    "### Hyperparameters"
   ]
  },
  {
   "cell_type": "code",
   "execution_count": 15,
   "id": "6afc35a7-f899-4752-a291-a795325c9f77",
   "metadata": {},
   "outputs": [],
   "source": [
    "lr = 0.1\n",
    "batch_size = 64\n",
    "max_epochs = 50"
   ]
  },
  {
   "cell_type": "markdown",
   "id": "d9ede96d-338e-46a1-8507-9f2c47aee68d",
   "metadata": {},
   "source": [
    "### Reset the model parameters"
   ]
  },
  {
   "cell_type": "code",
   "execution_count": 16,
   "id": "68397953-b234-4ad3-b672-e2f94d76625e",
   "metadata": {},
   "outputs": [
    {
     "data": {
      "text/plain": [
       "tensor([0.])"
      ]
     },
     "execution_count": 16,
     "metadata": {},
     "output_type": "execute_result"
    }
   ],
   "source": [
    "# reset the model parameters\n",
    "torch.nn.init.normal_(w) # reinitialize weights from normal distribution\n",
    "\n",
    "# bias\n",
    "b.data.zero_() # reset bias to zero"
   ]
  },
  {
   "cell_type": "code",
   "execution_count": 17,
   "id": "8a077baf-a7b1-4fbf-ae93-4fcdec713f7a",
   "metadata": {},
   "outputs": [],
   "source": [
    "# a function to visualize learning curves\n",
    "def plot_curve(train_step, train_loss, val_step, val_loss):\n",
    "    # clear previous plot\n",
    "    clear_output(wait=True)\n",
    "    fig, ax = plt.subplots()\n",
    "    # plot training loss\n",
    "    ax.plot(train_step, train_loss, label='Training', ls=':', marker='o')\n",
    "    # plot validation loss\n",
    "    ax.plot(val_step, val_loss, label='Validation', ls='--', marker='s')\n",
    "    ax.set_xlabel('Step')      # x-axis label\n",
    "    ax.set_ylabel('MSE Loss')  # y-axis label\n",
    "    ax.legend(loc='upper right')  # show legend\n",
    "    display(fig)  # display the plot\n",
    "    plt.close(fig)  # close the figure to save memory"
   ]
  },
  {
   "cell_type": "code",
   "execution_count": 18,
   "id": "168bf197-2112-4708-92bd-7dabe8081259",
   "metadata": {},
   "outputs": [
    {
     "data": {
      "image/png": "[encoded data removed]",
      "text/plain": [
       "<Figure size 640x480 with 1 Axes>"
      ]
     },
     "metadata": {},
     "output_type": "display_data"
    }
   ],
   "source": [
    "# prepare lists for plotting\n",
    "# training curve\n",
    "train_step_list: list[int] = []\n",
    "train_loss_list: list[float] = []\n",
    "# validation curve\n",
    "val_step_list: list[int] = []\n",
    "val_loss_list: list[float] = []\n",
    "\n",
    "step = 0 # counter for training iterations\n",
    "\n",
    "# training and validation loop\n",
    "for epoch in range(0, max_epochs + 1):\n",
    "    if epoch > 0:\n",
    "        # --- TRAINING ---\n",
    "        \n",
    "        # shuffled example indices for random sampling -> stochastic gradient descent\n",
    "        train_shuffled_indices = torch.randperm(len(x_train))\n",
    "        for batch_indices in train_shuffled_indices.split(batch_size):\n",
    "            x, t = x_train[batch_indices], t_train[batch_indices]\n",
    "\n",
    "            y = linear_regression_model(x, w, b)\n",
    "            loss = mse_loss(y, t).mean()\n",
    "            \n",
    "            loss.backward()\n",
    "            with torch.no_grad():\n",
    "                for param in [w, b]:\n",
    "                    param.data -= lr * param.grad.data\n",
    "                    param.grad = None\n",
    "\n",
    "            step += 1\n",
    "\n",
    "            train_step_list.append(step)\n",
    "            train_loss_list.append(loss.item())\n",
    "    \n",
    "    #  --- VALIDATION ---\n",
    "    val_loss_sum = 0\n",
    "\n",
    "    with torch.no_grad(): # disable gradient computation for validation\n",
    "        for batch_indices in torch.arange(len(x_val)).split(batch_size):\n",
    "            x, t = x_val[batch_indices], t_val[batch_indices]\n",
    "        \n",
    "            y = linear_regression_model(x, w, b)\n",
    "            val_loss_sum += loss.sum().item()* len(x)\n",
    "    \n",
    "    val_step_list.append(step)\n",
    "    # average validation loss\n",
    "    val_loss_list.append(val_loss_sum / len(x_val))\n",
    "\n",
    "    # update the plot after each epoch\n",
    "    plot_curve(train_step_list, train_loss_list, val_step_list, val_loss_list)"
   ]
  },
  {
   "cell_type": "markdown",
   "id": "c92e37b0-dbe3-4b37-bbbb-fc608851af8d",
   "metadata": {},
   "source": [
    "# 3. (Optional) Hyperparameter tuning "
   ]
  },
  {
   "cell_type": "code",
   "execution_count": 20,
   "id": "affc1bd9-1382-4181-af31-be9c68fc3366",
   "metadata": {},
   "outputs": [],
   "source": [
    "# you can compare different learning rates, differnt batch sizes"
   ]
  },
  {
   "cell_type": "markdown",
   "id": "fa34bdde-30c2-4ed0-bd34-b68666068987",
   "metadata": {},
   "source": [
    "## 4. Testing"
   ]
  },
  {
   "cell_type": "code",
   "execution_count": 21,
   "id": "ac906f5c-38be-4f1a-a6ab-824ae3a25ab1",
   "metadata": {},
   "outputs": [],
   "source": [
    "test_loss_sum = 0\n",
    "\n",
    "with torch.no_grad():\n",
    "    for batch_indices in torch.arange(len(x_test)).split(batch_size):\n",
    "        x, t = x_test[batch_indices], t_test[batch_indices]\n",
    "        y = linear_regression_model(x, w, b)\n",
    "        loss = mse_loss(y, t)\n",
    "        test_loss_sum += loss.sum().item()\n",
    "\n",
    "test_loss = test_loss_sum / len(x_test)"
   ]
  },
  {
   "cell_type": "code",
   "execution_count": 22,
   "id": "0d4433a6-4fa5-47ae-8a6a-a7f0f0ad2220",
   "metadata": {},
   "outputs": [
    {
     "name": "stdout",
     "output_type": "stream",
     "text": [
      "1.6939e-15\n"
     ]
    }
   ],
   "source": [
    "print(f'{test_loss:=.4e}')"
   ]
  },
  {
   "cell_type": "markdown",
   "id": "5bbe4fa6-7ff2-440e-bacd-a42a8e6e8f5b",
   "metadata": {},
   "source": [
    "### Compare learned parameters to true values"
   ]
  },
  {
   "cell_type": "code",
   "execution_count": 23,
   "id": "6a9e4aaf-6c9f-4cc3-a1fa-6f5346100659",
   "metadata": {},
   "outputs": [
    {
     "name": "stdout",
     "output_type": "stream",
     "text": [
      "w_true=tensor([-1.,  2.]), w=tensor([-1.0000,  2.0000], requires_grad=True)\n",
      "b_true=tensor([1.]), b=tensor([1.0000], requires_grad=True)\n"
     ]
    }
   ],
   "source": [
    "print(f'{w_true=}, {w=}')\n",
    "print(f'{b_true=}, {b=}')"
   ]
  },
  {
   "cell_type": "code",
   "execution_count": null,
   "id": "ccc7e9d0-d2f4-4ab6-aa63-d38479aa9fba",
   "metadata": {},
   "outputs": [],
   "source": []
  },
  {
   "cell_type": "code",
   "execution_count": null,
   "id": "af93a2ac-46c5-409f-b0ea-d46ac4fbb2d3",
   "metadata": {},
   "outputs": [],
   "source": []
  },
  {
   "cell_type": "code",
   "execution_count": null,
   "id": "e50f5f4e-9b4c-44ee-993a-92705402c553",
   "metadata": {},
   "outputs": [],
   "source": []
  }
 ],
 "metadata": {
  "kernelspec": {
   "display_name": "lec-25-1-sju-ml-py312",
   "language": "python",
   "name": "lec-25-1-sju-ml-py312"
  },
  "language_info": {
   "codemirror_mode": {
    "name": "ipython",
    "version": 3
   },
   "file_extension": ".py",
   "mimetype": "text/x-python",
   "name": "python",
   "nbconvert_exporter": "python",
   "pygments_lexer": "ipython3",
   "version": "3.12.10"
  }
 },
 "nbformat": 4,
 "nbformat_minor": 5
}
