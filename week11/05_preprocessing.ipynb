{
 "cells": [
  {
   "cell_type": "markdown",
   "id": "7db1fbd8-9aca-4f88-82bf-65acf3c23a1e",
   "metadata": {},
   "source": [
    "# Example 5: Preprocessing\n",
    "- https://scikit-learn.org/stable/modules/generated/sklearn.preprocessing.StandardScaler.html\n",
    "- https://scikit-learn.org/stable/modules/generated/sklearn.preprocessing.MinMaxScaler.html"
   ]
  },
  {
   "cell_type": "code",
   "execution_count": 35,
   "id": "c483dd8b-23aa-4939-9576-559e5ad732c4",
   "metadata": {},
   "outputs": [],
   "source": [
    "import numpy as np\n",
    "from sklearn.datasets import make_regression\n",
    "from sklearn.linear_model import SGDRegressor\n",
    "from sklearn.model_selection import train_test_split\n",
    "from sklearn.preprocessing import StandardScaler, MinMaxScaler\n",
    "from sklearn.metrics import mean_squared_error\n",
    "import matplotlib.pyplot as plt"
   ]
  },
  {
   "cell_type": "code",
   "execution_count": 36,
   "id": "79b1e150-8aaa-4856-9682-b89785c383f5",
   "metadata": {},
   "outputs": [],
   "source": [
    "def train_val_test_split(x, t):\n",
    "    x_train_val, x_test, t_train_val, t_test = train_test_split(x, t, test_size=0.2)\n",
    "    x_train, x_val, t_train, t_val = train_test_split(x_train_val, t_train_val, test_size=0.2)\n",
    "    return (\n",
    "        x_train, t_train,\n",
    "        x_val, t_val, \n",
    "        x_test, t_test,\n",
    "    )"
   ]
  },
  {
   "cell_type": "code",
   "execution_count": 37,
   "id": "9ba6bf59-96b5-4a3a-8367-3b039ebaccf9",
   "metadata": {},
   "outputs": [],
   "source": [
    "num_samples = 100000\n",
    "w_true = np.array([100, 200])  # You choose\n",
    "b_true = 5\n",
    "noise_scale = 1.0\n",
    "\n",
    "num_features = len(w_true)\n",
    "x = np.stack(\n",
    "    arrays=[\n",
    "        2 + 3 * np.random.randn(num_samples), # sampled from a normal distribution with mean=2, std=3\n",
    "        5 + 10 * np.random.randn(num_samples), # sampled from a normal distribution with mean=2, std=3\n",
    "    ],\n",
    "    axis=1,\n",
    ")\n",
    "\n",
    "noise = np.random.randn(num_samples) * noise_scale\n",
    "\n",
    "t = (x * w_true).sum(axis=1) + b_true + noise\n",
    "\n",
    "x_train, t_train, x_val, t_val, x_test, t_test = train_val_test_split(x, t)"
   ]
  },
  {
   "cell_type": "code",
   "execution_count": 38,
   "id": "08aaea4b-9fa3-40cd-be44-068b8b3f01c4",
   "metadata": {},
   "outputs": [],
   "source": [
    "model_kwargs = dict(random_state=1337, eta0=0.1, max_iter=10000)"
   ]
  },
  {
   "cell_type": "code",
   "execution_count": 39,
   "id": "b58b8e65-e962-43c3-bac2-c5e4ca91d85c",
   "metadata": {},
   "outputs": [],
   "source": [
    "# 2. 전처리 없이 학습\n",
    "model_no_scaling = SGDRegressor(**model_kwargs)\n",
    "model_no_scaling.fit(x_train, t_train)\n",
    "y_val_no_scaling = model_no_scaling.predict(x_val)\n",
    "mse_val_no_scaling = mean_squared_error(t_val, y_val_no_scaling)"
   ]
  },
  {
   "cell_type": "code",
   "execution_count": 40,
   "id": "1b67df29-8ebc-424c-8397-aa12eb939635",
   "metadata": {},
   "outputs": [],
   "source": [
    "\n",
    "def test_scaler(model, x_scaler, t_scaler, x_train, t_train, x_val, t_val,):\n",
    "    x_train_scaled = x_scaler.fit_transform(x_train)\n",
    "    x_val_scaled = x_scaler.transform(x_val)\n",
    "\n",
    "    def t_scaler_wrapper(fn, t):\n",
    "        return fn(t[:, None])[:, 0]\n",
    "    \n",
    "    t_train_scaled = t_scaler_wrapper(t_scaler.fit_transform, t_train)\n",
    "    t_val_scaled = t_scaler_wrapper(t_scaler.transform, t_val)\n",
    "\n",
    "    model.fit(x_train_scaled, t_train_scaled)\n",
    "    y_val_scaled = model.predict(x_val_scaled)\n",
    "    \n",
    "    y_val = t_scaler_wrapper(t_scaler.inverse_transform, y_val_scaled)\n",
    "    \n",
    "    mse = mean_squared_error(y_true=t_val, y_pred=y_val)\n",
    "\n",
    "    return model, mse"
   ]
  },
  {
   "cell_type": "code",
   "execution_count": 41,
   "id": "0778229e-dd81-454a-9dd0-c665131d1772",
   "metadata": {},
   "outputs": [],
   "source": [
    "model_standard, mse_val_standard = test_scaler(\n",
    "    model=SGDRegressor(**model_kwargs), \n",
    "    x_scaler=StandardScaler(),\n",
    "    t_scaler=StandardScaler(),\n",
    "    x_train=x_train,\n",
    "    t_train=t_train,\n",
    "    x_val=x_val,\n",
    "    t_val=t_val,\n",
    ")\n",
    "\n",
    "model_minmax, mse_val_minmax = test_scaler(\n",
    "    model=SGDRegressor(**model_kwargs), \n",
    "    x_scaler=MinMaxScaler(),\n",
    "    t_scaler=MinMaxScaler(),\n",
    "    x_train=x_train,\n",
    "    t_train=t_train,\n",
    "    x_val=x_val,\n",
    "    t_val=t_val,\n",
    ")"
   ]
  },
  {
   "cell_type": "code",
   "execution_count": 42,
   "id": "e208246c-e018-4d7c-a9ae-796fcf8d5798",
   "metadata": {},
   "outputs": [
    {
     "name": "stdout",
     "output_type": "stream",
     "text": [
      "mse_val_no_scaling=1.106\n",
      "mse_val_standard=1.079\n",
      "mse_val_minmax=180.934\n"
     ]
    }
   ],
   "source": [
    "print(f'{mse_val_no_scaling=:.3f}')\n",
    "print(f'{mse_val_standard=:.3f}')\n",
    "print(f'{mse_val_minmax=:.3f}')"
   ]
  },
  {
   "cell_type": "code",
   "execution_count": null,
   "id": "1893e54d-4487-498b-8e95-66656577cf37",
   "metadata": {},
   "outputs": [],
   "source": []
  }
 ],
 "metadata": {
  "kernelspec": {
   "display_name": "lec-25-1-sju-ml-py312",
   "language": "python",
   "name": "lec-25-1-sju-ml-py312"
  },
  "language_info": {
   "codemirror_mode": {
    "name": "ipython",
    "version": 3
   },
   "file_extension": ".py",
   "mimetype": "text/x-python",
   "name": "python",
   "nbconvert_exporter": "python",
   "pygments_lexer": "ipython3",
   "version": "3.12.10"
  }
 },
 "nbformat": 4,
 "nbformat_minor": 5
}
