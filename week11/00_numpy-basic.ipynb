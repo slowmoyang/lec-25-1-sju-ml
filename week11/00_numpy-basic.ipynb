{
 "cells": [
  {
   "cell_type": "markdown",
   "id": "8561af8b-458a-4956-b5b9-7a3efef3a9f1",
   "metadata": {},
   "source": [
    "# Example 0: numpy 101 (optional)"
   ]
  },
  {
   "cell_type": "code",
   "execution_count": null,
   "id": "383f7c31-9c73-47e0-992f-c16b6894ce7d",
   "metadata": {},
   "outputs": [],
   "source": [
    "!pip install scikit-learn numpy pandas matplotlib ucimlrepo"
   ]
  },
  {
   "cell_type": "code",
   "execution_count": null,
   "id": "4dad8c9c-5373-44be-ae35-d74db86016de",
   "metadata": {},
   "outputs": [],
   "source": [
    "import numpy as np\n",
    "\n",
    "# limit NumPy array output to 3 decimal places\n",
    "np.set_printoptions(3)"
   ]
  },
  {
   "cell_type": "markdown",
   "id": "781c5f54-7b8b-47b9-8f04-a3d485d06341",
   "metadata": {},
   "source": [
    "## 1. Creating numpy arrays"
   ]
  },
  {
   "cell_type": "code",
   "execution_count": 28,
   "id": "ffc9f1dc-1f57-4dfd-b97c-08ac1e29c74f",
   "metadata": {},
   "outputs": [
    {
     "name": "stdout",
     "output_type": "stream",
     "text": [
      "1d array:\n",
      "\ta=array([1, 2, 3])\n",
      "2d array:\n",
      "\tb=array([[1, 2, 3],\n",
      "       [4, 5, 6]])\n"
     ]
    }
   ],
   "source": [
    "# 1d array\n",
    "a = np.array([1, 2, 3])\n",
    "\n",
    "# 2d array\n",
    "b = np.array([\n",
    "    [1, 2, 3], \n",
    "    [4, 5, 6]\n",
    "])\n",
    "\n",
    "print(f'1d array:\\n\\t{a=}')\n",
    "print(f'2d array:\\n\\t{b=}')"
   ]
  },
  {
   "cell_type": "markdown",
   "id": "682bc080-4585-47d3-a4dc-9301a39604da",
   "metadata": {},
   "source": [
    "## 2. Inspecting Array Properties"
   ]
  },
  {
   "cell_type": "code",
   "execution_count": 29,
   "id": "14a50a0c-ccd5-4b70-af78-cf6bc8b8026f",
   "metadata": {},
   "outputs": [
    {
     "name": "stdout",
     "output_type": "stream",
     "text": [
      "b.shape=(2, 3)\n",
      "b.ndim=2\n",
      "b.dtype=dtype('int64')\n"
     ]
    }
   ],
   "source": [
    "print(f'{b.shape=}')\n",
    "print(f'{b.ndim=}')\n",
    "print(f'{b.dtype=}') # data type"
   ]
  },
  {
   "cell_type": "markdown",
   "id": "2b2b97b0-bc13-46c3-8e63-1a4391dec50e",
   "metadata": {},
   "source": [
    "## 3. Basic Operations (Vectorization)"
   ]
  },
  {
   "cell_type": "code",
   "execution_count": 30,
   "id": "1cb0a15f-7eeb-4748-a3ab-73a5ac8d5345",
   "metadata": {},
   "outputs": [
    {
     "name": "stdout",
     "output_type": "stream",
     "text": [
      "x + y=array([5., 7., 9.])\n",
      "x * y=array([ 4., 10., 18.])\n",
      "x ** 2=array([1., 4., 9.])\n",
      "x @ y=np.float64(32.0)\n"
     ]
    }
   ],
   "source": [
    "x = np.array([1, 2, 3], dtype=np.float64)\n",
    "y = np.array([4, 5, 6], dtype=np.float64)\n",
    "\n",
    "print(f'{x + y=}') # addition\n",
    "print(f'{x * y=}') # multiplication\n",
    "print(f'{x ** 2=}') # x^2\n",
    "print(f'{x @ y=}') # inner product"
   ]
  },
  {
   "cell_type": "code",
   "execution_count": 31,
   "id": "d6de0659-0656-46e6-a63a-a2a0ebd1e5b2",
   "metadata": {},
   "outputs": [
    {
     "name": "stdout",
     "output_type": "stream",
     "text": [
      "[[ 4  6]\n",
      " [10 12]]\n"
     ]
    }
   ],
   "source": [
    "A = np.array([[1, 2],\n",
    "              [3, 4]])\n",
    "B = np.array([[2, 0],\n",
    "              [1, 3]])\n",
    "\n",
    "print(f'{np.matmul(A, B)}')"
   ]
  },
  {
   "cell_type": "markdown",
   "id": "8a38566c-833c-4ca4-bbc0-7887378ed2c8",
   "metadata": {},
   "source": [
    "## 4. Broadcasting"
   ]
  },
  {
   "cell_type": "code",
   "execution_count": 32,
   "id": "7987f175-cb1a-4ba5-8109-4f53f71f9e30",
   "metadata": {},
   "outputs": [
    {
     "name": "stdout",
     "output_type": "stream",
     "text": [
      "A + b=array([[2, 2, 4],\n",
      "       [5, 5, 7]])\n"
     ]
    }
   ],
   "source": [
    "A = np.array([\n",
    "    [1, 2, 3],\n",
    "    [4, 5, 6]\n",
    "])\n",
    "b = np.array([1, 0, 1])\n",
    "\n",
    "# b is broadcasted to match the shape of A\n",
    "print(f'{A + b=}')"
   ]
  },
  {
   "cell_type": "markdown",
   "id": "af25ce5a-1a22-4655-aa98-4060cbb911e2",
   "metadata": {},
   "source": [
    "## 5. Slicing and Conditional Indexing"
   ]
  },
  {
   "cell_type": "code",
   "execution_count": 33,
   "id": "245121dc-8237-4569-a26b-9b9423ac214c",
   "metadata": {},
   "outputs": [
    {
     "name": "stdout",
     "output_type": "stream",
     "text": [
      "arr[0]=np.int64(10)\n",
      "arr[2]=np.int64(30)\n",
      "arr[:2]=array([10, 20])\n",
      "(arr >= 30)=array([False, False,  True,  True,  True])\n",
      "arr[arr >= 30]=array([30, 40, 50])\n"
     ]
    }
   ],
   "source": [
    "arr = np.array([10, 20, 30, 40, 50])\n",
    "# 1st element\n",
    "print(f'{arr[0]=}')\n",
    "# 3rd element\n",
    "print(f'{arr[2]=}')\n",
    "\n",
    "# first 3 elements\n",
    "print(f'{arr[:2]=}')\n",
    "\n",
    "# a boolean array where each element is True if the element >= 30\n",
    "print(f'{(arr >= 30)=}')\n",
    "\n",
    "# elements >= 30\n",
    "print(f'{arr[arr >= 30]=}')"
   ]
  },
  {
   "cell_type": "markdown",
   "id": "fe554625-77a2-4a84-88b4-ef8d70e5aab8",
   "metadata": {},
   "source": [
    "## 6. Array Creation Functions"
   ]
  },
  {
   "cell_type": "code",
   "execution_count": 34,
   "id": "c1dcc35d-1141-4288-b509-aad05ed1dadd",
   "metadata": {},
   "outputs": [
    {
     "name": "stdout",
     "output_type": "stream",
     "text": [
      "np.zeros((2, 3))=array([[0., 0., 0.],\n",
      "       [0., 0., 0.]])\n",
      "\n",
      "np.ones((2, 3))=array([[1., 1., 1.],\n",
      "       [1., 1., 1.]])\n",
      "\n",
      "np.arange(0, 10, 2)=array([0, 2, 4, 6, 8])\n",
      "\n",
      "np.linspace(0, 1, 5)=array([0.  , 0.25, 0.5 , 0.75, 1.  ])\n",
      "\n",
      "np.random.rand(2, 3)=array([[0.549, 0.271, 0.028],\n",
      "       [0.634, 0.465, 0.339]])\n",
      "\n",
      "np.random.randn(4, 5)=array([[ 0.859,  1.416,  1.432, -0.163,  0.348],\n",
      "       [ 1.748, -0.113,  3.223,  1.257,  1.342],\n",
      "       [ 0.424,  0.133, -0.19 , -0.918, -1.891],\n",
      "       [ 1.876,  1.114,  0.61 ,  1.276,  0.529]])\n",
      "\n"
     ]
    }
   ],
   "source": [
    "# Array of zeros\n",
    "print(f'{np.zeros((2, 3))=}\\n')\n",
    "\n",
    "# Array of ones\n",
    "print(f'{np.ones((2, 3))=}\\n')\n",
    "\n",
    "# range from start=0 (inclusive) to stop=10 (exclusive) step 2\n",
    "print(f'{np.arange(0, 10, 2)=}\\n')\n",
    "\n",
    "# 5 evenly spaced values from [0, 1]\n",
    "print(f'{np.linspace(0, 1, 5)=}\\n')\n",
    "\n",
    "# a 2x3 array of random floats from a uniform distribution in [0, 1)\n",
    "print(f'{np.random.rand(2, 3)=}\\n')\n",
    "\n",
    "# a 2x3 array of random numbers from the standard normal distribution\n",
    "print(f'{np.random.randn(4, 5)=}\\n')"
   ]
  }
 ],
 "metadata": {
  "kernelspec": {
   "display_name": "lec-25-1-sju-ml-py312",
   "language": "python",
   "name": "lec-25-1-sju-ml-py312"
  },
  "language_info": {
   "codemirror_mode": {
    "name": "ipython",
    "version": 3
   },
   "file_extension": ".py",
   "mimetype": "text/x-python",
   "name": "python",
   "nbconvert_exporter": "python",
   "pygments_lexer": "ipython3",
   "version": "3.12.10"
  }
 },
 "nbformat": 4,
 "nbformat_minor": 5
}
